{
 "cells": [
  {
   "cell_type": "markdown",
   "metadata": {},
   "source": [
    "# Downloading weather data\n"
   ]
  },
  {
   "cell_type": "markdown",
   "metadata": {},
   "source": [
    "extracting information about the local weather from the National Weather Service website. The first step is to find the page we want to scrape. We’ll extract weather information about downtown San Francisco from https://forecast.weather.gov/MapClick.php?lat=37.7772&lon=-122.4168. The page has information about the extended forecast for the next week, including time of day, temperature, and a brief description of the conditions.\n",
    "\n",
    "Download the page and start parsing it. In the below code, we:\n",
    "\n",
    "    Download the web page containing the forecast.\n",
    "    Create a BeautifulSoup class to parse the page.\n",
    "    Find the div with id seven-day-forecast, and assign to seven_day\n",
    "    Inside seven_day, find each individual forecast item.\n",
    "    Extract and print the first forecast item.\n"
   ]
  },
  {
   "cell_type": "code",
   "execution_count": 3,
   "metadata": {},
   "outputs": [
    {
     "name": "stdout",
     "output_type": "stream",
     "text": [
      "<div class=\"tombstone-container\">\n",
      " <p class=\"period-name\">\n",
      "  Today\n",
      "  <br/>\n",
      "  <br/>\n",
      " </p>\n",
      " <p>\n",
      "  <img alt=\"Today: Showers and thunderstorms before 1pm, then showers likely and possibly a thunderstorm between 1pm and 2pm, then a chance of showers after 2pm.  High near 56. West wind around 17 mph, with gusts as high as 23 mph.  Chance of precipitation is 80%. New rainfall amounts between a tenth and quarter of an inch, except higher amounts possible in thunderstorms. \" class=\"forecast-icon\" src=\"newimages/medium/shra80.png\" title=\"Today: Showers and thunderstorms before 1pm, then showers likely and possibly a thunderstorm between 1pm and 2pm, then a chance of showers after 2pm.  High near 56. West wind around 17 mph, with gusts as high as 23 mph.  Chance of precipitation is 80%. New rainfall amounts between a tenth and quarter of an inch, except higher amounts possible in thunderstorms. \"/>\n",
      " </p>\n",
      " <p class=\"short-desc\">\n",
      "  Showers\n",
      " </p>\n",
      " <p class=\"temp temp-high\">\n",
      "  High: 56 °F\n",
      " </p>\n",
      "</div>\n"
     ]
    }
   ],
   "source": [
    "import requests\n",
    "from bs4 import BeautifulSoup\n",
    "\n",
    "page = requests.get(\"http://forecast.weather.gov/MapClick.php?lat=37.7772&lon=-122.4168\")\n",
    "soup = BeautifulSoup(page.content, 'html.parser')\n",
    "seven_day = soup.find(id=\"seven-day-forecast\")\n",
    "forecast_items = seven_day.find_all(class_=\"tombstone-container\")\n",
    "tonight = forecast_items[0]\n",
    "print(tonight.prettify())"
   ]
  },
  {
   "cell_type": "markdown",
   "metadata": {},
   "source": [
    "# Extracting information from the page"
   ]
  },
  {
   "cell_type": "markdown",
   "metadata": {},
   "source": [
    "inside the forecast item tonight is all the information we want. There are 4 pieces of information we can extract:\n",
    "\n",
    "    The name of the forecast item — in this case, Tonight.\n",
    "    The description of the conditions — this is stored in the title property of img.\n",
    "    A short description of the conditions — in this case, Mostly Clear.\n",
    "    The temperature low — in this case, 49 degrees.\n",
    "\n",
    "We’ll extract the name of the forecast item, the short description, and the temperature first, since they’re all similar:"
   ]
  },
  {
   "cell_type": "code",
   "execution_count": 4,
   "metadata": {},
   "outputs": [
    {
     "name": "stdout",
     "output_type": "stream",
     "text": [
      "Today\n",
      "Showers\n",
      "High: 56 °F\n"
     ]
    }
   ],
   "source": [
    "period = tonight.find(class_=\"period-name\").get_text()\n",
    "short_desc = tonight.find(class_=\"short-desc\").get_text()\n",
    "temp = tonight.find(class_=\"temp\").get_text()\n",
    "print(period)\n",
    "print(short_desc)\n",
    "print(temp)"
   ]
  },
  {
   "cell_type": "markdown",
   "metadata": {},
   "source": [
    "Next, extract the title attribute from the img tag. To do this, we just treat the BeautifulSoup object like a dictionary, and pass in the attribute we want as a key:"
   ]
  },
  {
   "cell_type": "code",
   "execution_count": 5,
   "metadata": {},
   "outputs": [
    {
     "name": "stdout",
     "output_type": "stream",
     "text": [
      "Today: Showers and thunderstorms before 1pm, then showers likely and possibly a thunderstorm between 1pm and 2pm, then a chance of showers after 2pm.  High near 56. West wind around 17 mph, with gusts as high as 23 mph.  Chance of precipitation is 80%. New rainfall amounts between a tenth and quarter of an inch, except higher amounts possible in thunderstorms. \n"
     ]
    }
   ],
   "source": [
    "img = tonight.find(\"img\")\n",
    "desc = img['title']\n",
    "print(desc)"
   ]
  },
  {
   "cell_type": "markdown",
   "metadata": {},
   "source": [
    "# Extracting all the information from the page"
   ]
  },
  {
   "cell_type": "markdown",
   "metadata": {},
   "source": [
    "extract everything at once.\n",
    "\n",
    "In the below code, we:\n",
    "\n",
    "    Select all items with the class period-name inside an item with the class tombstone-container in seven_day.\n",
    "    Use a list comprehension to call the get_text method on each BeautifulSoup object.\n"
   ]
  },
  {
   "cell_type": "code",
   "execution_count": 6,
   "metadata": {},
   "outputs": [
    {
     "data": {
      "text/plain": [
       "['Today',\n",
       " 'Tonight',\n",
       " 'Friday',\n",
       " 'FridayNight',\n",
       " 'Saturday',\n",
       " 'SaturdayNight',\n",
       " 'Sunday',\n",
       " 'SundayNight',\n",
       " 'Monday']"
      ]
     },
     "execution_count": 6,
     "metadata": {},
     "output_type": "execute_result"
    }
   ],
   "source": [
    "period_tags = seven_day.select(\".tombstone-container .period-name\")\n",
    "periods = [pt.get_text() for pt in period_tags]\n",
    "periods"
   ]
  },
  {
   "cell_type": "markdown",
   "metadata": {},
   "source": [
    " This gets us each of the period names, in order. We can apply the same technique to get the other 3 fields:"
   ]
  },
  {
   "cell_type": "code",
   "execution_count": 9,
   "metadata": {},
   "outputs": [
    {
     "name": "stdout",
     "output_type": "stream",
     "text": [
      "['Showers', 'ChanceShowers thenSlight ChanceShowers', 'GradualClearing', 'IncreasingClouds', 'Rain', 'Showers', 'ChanceShowers thenSlight ChanceT-storms', 'Slight ChanceT-storms', 'Sunny']\n",
      "['High: 56 °F', 'Low: 52 °F', 'High: 60 °F', 'Low: 52 °F', 'High: 58 °F', 'Low: 53 °F', 'High: 59 °F', 'Low: 51 °F', 'High: 61 °F']\n",
      "['Today: Showers and thunderstorms before 1pm, then showers likely and possibly a thunderstorm between 1pm and 2pm, then a chance of showers after 2pm.  High near 56. West wind around 17 mph, with gusts as high as 23 mph.  Chance of precipitation is 80%. New rainfall amounts between a tenth and quarter of an inch, except higher amounts possible in thunderstorms. ', 'Tonight: A 50 percent chance of showers, mainly before 11pm.  Cloudy, with a low around 52. West wind 13 to 17 mph, with gusts as high as 23 mph.  New precipitation amounts of less than a tenth of an inch possible. ', 'Friday: Cloudy through mid morning, then gradual clearing, with a high near 60. West wind 11 to 13 mph. ', 'Friday Night: Increasing clouds, with a low around 52. West wind 8 to 13 mph becoming light  after midnight. ', 'Saturday: Rain, mainly after 11am.  High near 58. South wind 5 to 10 mph increasing to 11 to 16 mph in the afternoon. Winds could gust as high as 21 mph.  Chance of precipitation is 80%. New precipitation amounts between a quarter and half of an inch possible. ', 'Saturday Night: Rain, mainly before 2am, then showers likely and possibly a thunderstorm after 2am.  Low around 53. Chance of precipitation is 90%. New rainfall amounts between a quarter and half of an inch possible. ', 'Sunday: A chance of rain before 11am, then a slight chance of showers and thunderstorms after 11am.  Partly sunny, with a high near 59. Chance of precipitation is 40%.', 'Sunday Night: A slight chance of showers and thunderstorms.  Partly cloudy, with a low around 51.', 'Monday: Sunny, with a high near 61.']\n"
     ]
    }
   ],
   "source": [
    "short_descs = [sd.get_text() for sd in seven_day.select(\".tombstone-container .short-desc\")]\n",
    "temps = [t.get_text() for t in seven_day.select(\".tombstone-container .temp\")]\n",
    "descs = [d[\"title\"] for d in seven_day.select(\".tombstone-container img\")]\n",
    "print(short_descs)\n",
    "print(temps)\n",
    "print(descs)"
   ]
  },
  {
   "cell_type": "markdown",
   "metadata": {},
   "source": [
    "now combine the data into a Pandas DataFrame and analyze it. A DataFrame is an object that can store tabular data, making data analysis easy. If you want to learn more about Pandas, check out our free to start course here.\n",
    "\n",
    "In order to do this, we’ll call the DataFrame class, and pass in each list of items that we have. We pass them in as part of a dictionary. Each dictionary key will become a column in the DataFrame, and each list will become the values in the column:"
   ]
  },
  {
   "cell_type": "code",
   "execution_count": 10,
   "metadata": {},
   "outputs": [
    {
     "data": {
      "text/html": [
       "<div>\n",
       "<style scoped>\n",
       "    .dataframe tbody tr th:only-of-type {\n",
       "        vertical-align: middle;\n",
       "    }\n",
       "\n",
       "    .dataframe tbody tr th {\n",
       "        vertical-align: top;\n",
       "    }\n",
       "\n",
       "    .dataframe thead th {\n",
       "        text-align: right;\n",
       "    }\n",
       "</style>\n",
       "<table border=\"1\" class=\"dataframe\">\n",
       "  <thead>\n",
       "    <tr style=\"text-align: right;\">\n",
       "      <th></th>\n",
       "      <th>period</th>\n",
       "      <th>short_desc</th>\n",
       "      <th>temp</th>\n",
       "      <th>desc</th>\n",
       "    </tr>\n",
       "  </thead>\n",
       "  <tbody>\n",
       "    <tr>\n",
       "      <th>0</th>\n",
       "      <td>Today</td>\n",
       "      <td>Showers</td>\n",
       "      <td>High: 56 °F</td>\n",
       "      <td>Today: Showers and thunderstorms before 1pm, t...</td>\n",
       "    </tr>\n",
       "    <tr>\n",
       "      <th>1</th>\n",
       "      <td>Tonight</td>\n",
       "      <td>ChanceShowers thenSlight ChanceShowers</td>\n",
       "      <td>Low: 52 °F</td>\n",
       "      <td>Tonight: A 50 percent chance of showers, mainl...</td>\n",
       "    </tr>\n",
       "    <tr>\n",
       "      <th>2</th>\n",
       "      <td>Friday</td>\n",
       "      <td>GradualClearing</td>\n",
       "      <td>High: 60 °F</td>\n",
       "      <td>Friday: Cloudy through mid morning, then gradu...</td>\n",
       "    </tr>\n",
       "    <tr>\n",
       "      <th>3</th>\n",
       "      <td>FridayNight</td>\n",
       "      <td>IncreasingClouds</td>\n",
       "      <td>Low: 52 °F</td>\n",
       "      <td>Friday Night: Increasing clouds, with a low ar...</td>\n",
       "    </tr>\n",
       "    <tr>\n",
       "      <th>4</th>\n",
       "      <td>Saturday</td>\n",
       "      <td>Rain</td>\n",
       "      <td>High: 58 °F</td>\n",
       "      <td>Saturday: Rain, mainly after 11am.  High near ...</td>\n",
       "    </tr>\n",
       "    <tr>\n",
       "      <th>5</th>\n",
       "      <td>SaturdayNight</td>\n",
       "      <td>Showers</td>\n",
       "      <td>Low: 53 °F</td>\n",
       "      <td>Saturday Night: Rain, mainly before 2am, then ...</td>\n",
       "    </tr>\n",
       "    <tr>\n",
       "      <th>6</th>\n",
       "      <td>Sunday</td>\n",
       "      <td>ChanceShowers thenSlight ChanceT-storms</td>\n",
       "      <td>High: 59 °F</td>\n",
       "      <td>Sunday: A chance of rain before 11am, then a s...</td>\n",
       "    </tr>\n",
       "    <tr>\n",
       "      <th>7</th>\n",
       "      <td>SundayNight</td>\n",
       "      <td>Slight ChanceT-storms</td>\n",
       "      <td>Low: 51 °F</td>\n",
       "      <td>Sunday Night: A slight chance of showers and t...</td>\n",
       "    </tr>\n",
       "    <tr>\n",
       "      <th>8</th>\n",
       "      <td>Monday</td>\n",
       "      <td>Sunny</td>\n",
       "      <td>High: 61 °F</td>\n",
       "      <td>Monday: Sunny, with a high near 61.</td>\n",
       "    </tr>\n",
       "  </tbody>\n",
       "</table>\n",
       "</div>"
      ],
      "text/plain": [
       "          period                               short_desc         temp  \\\n",
       "0          Today                                  Showers  High: 56 °F   \n",
       "1        Tonight   ChanceShowers thenSlight ChanceShowers   Low: 52 °F   \n",
       "2         Friday                          GradualClearing  High: 60 °F   \n",
       "3    FridayNight                         IncreasingClouds   Low: 52 °F   \n",
       "4       Saturday                                     Rain  High: 58 °F   \n",
       "5  SaturdayNight                                  Showers   Low: 53 °F   \n",
       "6         Sunday  ChanceShowers thenSlight ChanceT-storms  High: 59 °F   \n",
       "7    SundayNight                    Slight ChanceT-storms   Low: 51 °F   \n",
       "8         Monday                                    Sunny  High: 61 °F   \n",
       "\n",
       "                                                desc  \n",
       "0  Today: Showers and thunderstorms before 1pm, t...  \n",
       "1  Tonight: A 50 percent chance of showers, mainl...  \n",
       "2  Friday: Cloudy through mid morning, then gradu...  \n",
       "3  Friday Night: Increasing clouds, with a low ar...  \n",
       "4  Saturday: Rain, mainly after 11am.  High near ...  \n",
       "5  Saturday Night: Rain, mainly before 2am, then ...  \n",
       "6  Sunday: A chance of rain before 11am, then a s...  \n",
       "7  Sunday Night: A slight chance of showers and t...  \n",
       "8                Monday: Sunny, with a high near 61.  "
      ]
     },
     "execution_count": 10,
     "metadata": {},
     "output_type": "execute_result"
    }
   ],
   "source": [
    "import pandas as pd\n",
    "weather = pd.DataFrame({\n",
    "\"period\": periods,\n",
    "\"short_desc\": short_descs,\n",
    "\"temp\": temps,\n",
    "\"desc\":descs\n",
    "})\n",
    "weather"
   ]
  },
  {
   "cell_type": "markdown",
   "metadata": {},
   "source": [
    "We can now do some analysis on the data. For example, we can use a regular expression and the Series.str.extract method to pull out the numeric temperature values:"
   ]
  },
  {
   "cell_type": "code",
   "execution_count": 11,
   "metadata": {},
   "outputs": [
    {
     "data": {
      "text/plain": [
       "0    56\n",
       "1    52\n",
       "2    60\n",
       "3    52\n",
       "4    58\n",
       "5    53\n",
       "6    59\n",
       "7    51\n",
       "8    61\n",
       "Name: temp_num, dtype: object"
      ]
     },
     "execution_count": 11,
     "metadata": {},
     "output_type": "execute_result"
    }
   ],
   "source": [
    "temp_nums = weather[\"temp\"].str.extract(\"(?P<temp_num>\\d+)\", expand=False)\n",
    "weather[\"temp_num\"] = temp_nums.astype('int')\n",
    "temp_nums"
   ]
  },
  {
   "cell_type": "markdown",
   "metadata": {},
   "source": [
    "find the mean of all the high and low temperatures:"
   ]
  },
  {
   "cell_type": "code",
   "execution_count": 12,
   "metadata": {},
   "outputs": [
    {
     "data": {
      "text/plain": [
       "55.77777777777778"
      ]
     },
     "execution_count": 12,
     "metadata": {},
     "output_type": "execute_result"
    }
   ],
   "source": [
    "weather[\"temp_num\"].mean()"
   ]
  },
  {
   "cell_type": "markdown",
   "metadata": {},
   "source": [
    "Select the rows that happen at night:"
   ]
  },
  {
   "cell_type": "code",
   "execution_count": 13,
   "metadata": {},
   "outputs": [
    {
     "data": {
      "text/plain": [
       "0    False\n",
       "1     True\n",
       "2    False\n",
       "3     True\n",
       "4    False\n",
       "5     True\n",
       "6    False\n",
       "7     True\n",
       "8    False\n",
       "Name: temp, dtype: bool"
      ]
     },
     "execution_count": 13,
     "metadata": {},
     "output_type": "execute_result"
    }
   ],
   "source": [
    "is_night = weather[\"temp\"].str.contains(\"Low\")\n",
    "weather[\"is_night\"] = is_night\n",
    "is_night"
   ]
  },
  {
   "cell_type": "code",
   "execution_count": 14,
   "metadata": {},
   "outputs": [
    {
     "data": {
      "text/html": [
       "<div>\n",
       "<style scoped>\n",
       "    .dataframe tbody tr th:only-of-type {\n",
       "        vertical-align: middle;\n",
       "    }\n",
       "\n",
       "    .dataframe tbody tr th {\n",
       "        vertical-align: top;\n",
       "    }\n",
       "\n",
       "    .dataframe thead th {\n",
       "        text-align: right;\n",
       "    }\n",
       "</style>\n",
       "<table border=\"1\" class=\"dataframe\">\n",
       "  <thead>\n",
       "    <tr style=\"text-align: right;\">\n",
       "      <th></th>\n",
       "      <th>period</th>\n",
       "      <th>short_desc</th>\n",
       "      <th>temp</th>\n",
       "      <th>desc</th>\n",
       "      <th>temp_num</th>\n",
       "      <th>is_night</th>\n",
       "    </tr>\n",
       "  </thead>\n",
       "  <tbody>\n",
       "    <tr>\n",
       "      <th>1</th>\n",
       "      <td>Tonight</td>\n",
       "      <td>ChanceShowers thenSlight ChanceShowers</td>\n",
       "      <td>Low: 52 °F</td>\n",
       "      <td>Tonight: A 50 percent chance of showers, mainl...</td>\n",
       "      <td>52</td>\n",
       "      <td>True</td>\n",
       "    </tr>\n",
       "    <tr>\n",
       "      <th>3</th>\n",
       "      <td>FridayNight</td>\n",
       "      <td>IncreasingClouds</td>\n",
       "      <td>Low: 52 °F</td>\n",
       "      <td>Friday Night: Increasing clouds, with a low ar...</td>\n",
       "      <td>52</td>\n",
       "      <td>True</td>\n",
       "    </tr>\n",
       "    <tr>\n",
       "      <th>5</th>\n",
       "      <td>SaturdayNight</td>\n",
       "      <td>Showers</td>\n",
       "      <td>Low: 53 °F</td>\n",
       "      <td>Saturday Night: Rain, mainly before 2am, then ...</td>\n",
       "      <td>53</td>\n",
       "      <td>True</td>\n",
       "    </tr>\n",
       "    <tr>\n",
       "      <th>7</th>\n",
       "      <td>SundayNight</td>\n",
       "      <td>Slight ChanceT-storms</td>\n",
       "      <td>Low: 51 °F</td>\n",
       "      <td>Sunday Night: A slight chance of showers and t...</td>\n",
       "      <td>51</td>\n",
       "      <td>True</td>\n",
       "    </tr>\n",
       "  </tbody>\n",
       "</table>\n",
       "</div>"
      ],
      "text/plain": [
       "          period                              short_desc        temp  \\\n",
       "1        Tonight  ChanceShowers thenSlight ChanceShowers  Low: 52 °F   \n",
       "3    FridayNight                        IncreasingClouds  Low: 52 °F   \n",
       "5  SaturdayNight                                 Showers  Low: 53 °F   \n",
       "7    SundayNight                   Slight ChanceT-storms  Low: 51 °F   \n",
       "\n",
       "                                                desc  temp_num  is_night  \n",
       "1  Tonight: A 50 percent chance of showers, mainl...        52      True  \n",
       "3  Friday Night: Increasing clouds, with a low ar...        52      True  \n",
       "5  Saturday Night: Rain, mainly before 2am, then ...        53      True  \n",
       "7  Sunday Night: A slight chance of showers and t...        51      True  "
      ]
     },
     "execution_count": 14,
     "metadata": {},
     "output_type": "execute_result"
    }
   ],
   "source": [
    "weather[is_night]"
   ]
  },
  {
   "cell_type": "code",
   "execution_count": null,
   "metadata": {},
   "outputs": [],
   "source": []
  }
 ],
 "metadata": {
  "kernelspec": {
   "display_name": "Python 3",
   "language": "python",
   "name": "python3"
  },
  "language_info": {
   "codemirror_mode": {
    "name": "ipython",
    "version": 3
   },
   "file_extension": ".py",
   "mimetype": "text/x-python",
   "name": "python",
   "nbconvert_exporter": "python",
   "pygments_lexer": "ipython3",
   "version": "3.6.5"
  }
 },
 "nbformat": 4,
 "nbformat_minor": 2
}
